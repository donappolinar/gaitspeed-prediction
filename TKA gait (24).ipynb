{
 "cells": [
  {
   "cell_type": "code",
   "execution_count": null,
   "metadata": {},
   "outputs": [],
   "source": [
    "import matplotlib.pyplot as plt\n",
    "import numpy as np\n",
    "import pandas as pd\n",
    "import os\n",
    "from joblib import dump, load\n",
    "from sklearn.model_selection import train_test_split\n",
    "from sklearn.metrics import accuracy_score\n",
    "from sklearn.metrics import confusion_matrix\n",
    "from sklearn.metrics import roc_auc_score\n",
    "from sklearn.experimental import enable_hist_gradient_boosting\n",
    "from sklearn.ensemble import HistGradientBoostingClassifier\n",
    "from sklearn.model_selection import cross_val_score\n",
    "from sklearn import preprocessing\n",
    "from sklearn.ensemble import GradientBoostingClassifier\n",
    "from sklearn.ensemble import GradientBoostingRegressor\n",
    "from sklearn.metrics import r2_score\n",
    "from tqdm.notebook import trange, tqdm"
   ]
  },
  {
   "cell_type": "code",
   "execution_count": null,
   "metadata": {},
   "outputs": [],
   "source": [
    "PROJECT_ROOT_DIR = \".\"\n",
    "IMAGES_PATH = os.path.join(PROJECT_ROOT_DIR, \"images\")\n",
    "os.makedirs(IMAGES_PATH, exist_ok=True)\n",
    "\n",
    "def save_fig(fig_id, tight_layout=True, fig_extension=\"png\", resolution=300):\n",
    "    path = os.path.join(IMAGES_PATH, fig_id + \".\" + fig_extension)\n",
    "    print(\"그림 저장:\", fig_id)\n",
    "    if tight_layout:\n",
    "        plt.tight_layout()\n",
    "    plt.savefig(path, format=fig_extension, dpi=resolution)"
   ]
  },
  {
   "cell_type": "markdown",
   "metadata": {},
   "source": [
    "# Read Data"
   ]
  },
  {
   "cell_type": "code",
   "execution_count": null,
   "metadata": {},
   "outputs": [],
   "source": [
    "data = pd.read_excel('rawdata9.xlsx')\n",
    "print(len(data.columns))\n",
    "data.describe()"
   ]
  },
  {
   "cell_type": "code",
   "execution_count": null,
   "metadata": {},
   "outputs": [],
   "source": [
    "data.info()"
   ]
  },
  {
   "cell_type": "code",
   "execution_count": null,
   "metadata": {},
   "outputs": [],
   "source": [
    "plt.style.use('ggplot')\n",
    "data.hist(bins=25, figsize=(40,30));"
   ]
  },
  {
   "cell_type": "markdown",
   "metadata": {},
   "source": [
    "# Output 변수 탐색"
   ]
  },
  {
   "cell_type": "code",
   "execution_count": null,
   "metadata": {},
   "outputs": [],
   "source": [
    "data[['DS']].hist(bins=50, figsize=(10,10))\n",
    "plt.show()"
   ]
  },
  {
   "cell_type": "code",
   "execution_count": null,
   "metadata": {},
   "outputs": [],
   "source": [
    "threshold = range(-20, 20)\n",
    "train_acc = []\n",
    "train_auc = []\n",
    "test_acc = []\n",
    "test_auc = []\n",
    "\n",
    "for i in tqdm(range(-20,20)):\n",
    "    arr = np.array([i])\n",
    "\n",
    "    data['DS(cat)'] = arr.searchsorted(data['DS'])\n",
    "\n",
    "    X = data.drop(['TS', 'DS','DS(cat)'], axis=1)\n",
    "    X = preprocessing.StandardScaler().fit_transform(X)\n",
    "    y = data['DS(cat)']\n",
    "\n",
    "    X_train, X_test, y_train, y_test = train_test_split(X, y, test_size=0.3, stratify=y, random_state=2)\n",
    "\n",
    "    clf = GradientBoostingClassifier()\n",
    "    clf.fit(X_train,y_train)\n",
    "    \n",
    "    scores = cross_val_score(clf, X_train, y_train, cv=3, scoring='accuracy')\n",
    "    train_acc.append(scores.mean())\n",
    "    \n",
    "    scores = cross_val_score(clf, X_train, y_train, cv=3,scoring='roc_auc')\n",
    "    train_auc.append(scores.mean())\n",
    "\n",
    "    y_pred = clf.predict(X_test)\n",
    "    test_acc.append(accuracy_score(y_test, y_pred))\n",
    "\n",
    "    y_score = clf.predict_proba(X_test)\n",
    "    test_auc.append(roc_auc_score(y_test, y_score[:, 1]))"
   ]
  },
  {
   "cell_type": "code",
   "execution_count": null,
   "metadata": {},
   "outputs": [],
   "source": [
    "plt.rcParams[\"figure.figsize\"] = (20,15)\n",
    "df = pd.DataFrame()\n",
    "# df['train acc'] = train_acc\n",
    "df['train auc'] = train_auc\n",
    "# df['test acc'] = test_acc\n",
    "df['test auc'] = test_auc\n",
    "df['threshold'] = threshold\n",
    "df.set_index('threshold', drop=True, inplace=True)\n",
    "df.plot.line()"
   ]
  },
  {
   "cell_type": "markdown",
   "metadata": {},
   "source": [
    "# Output 변수 categorization"
   ]
  },
  {
   "cell_type": "code",
   "execution_count": null,
   "metadata": {},
   "outputs": [],
   "source": [
    "arr = np.array([-10, 10])\n",
    "\n",
    "data['exclude'] = arr.searchsorted(data['DS'])"
   ]
  },
  {
   "cell_type": "code",
   "execution_count": null,
   "metadata": {},
   "outputs": [],
   "source": [
    "data = data[data.exclude != 1]"
   ]
  },
  {
   "cell_type": "code",
   "execution_count": null,
   "metadata": {},
   "outputs": [],
   "source": [
    "data.drop(['exclude'], axis=1, inplace=True)"
   ]
  },
  {
   "cell_type": "code",
   "execution_count": null,
   "metadata": {},
   "outputs": [],
   "source": [
    "arr = np.array([0])\n",
    "\n",
    "data['DS(cat)'] = arr.searchsorted(data['DS'])\n",
    "\n",
    "X = data.drop(['TS', 'DS(cat)', 'DS'], axis=1)\n",
    "X = pd.DataFrame(preprocessing.StandardScaler().fit_transform(X), columns=list(X))\n",
    "y = data['DS(cat)']\n",
    "\n",
    "X_train, X_test, y_train, y_test = train_test_split(X, y, test_size=0.3, stratify=y, random_state=42)\n",
    "\n",
    "clf = GradientBoostingClassifier()\n",
    "clf.fit(X_train,y_train)"
   ]
  },
  {
   "cell_type": "markdown",
   "metadata": {},
   "source": [
    "# Feature selection"
   ]
  },
  {
   "cell_type": "markdown",
   "metadata": {},
   "source": [
    "### RFE"
   ]
  },
  {
   "cell_type": "code",
   "execution_count": null,
   "metadata": {},
   "outputs": [],
   "source": [
    "'''from sklearn.feature_selection import RFECV\n",
    "from sklearn.model_selection import StratifiedKFold\n",
    "\n",
    "rfecv = RFECV(estimator = clf, step = 1, cv = StratifiedKFold(3), scoring = 'roc_auc', n_jobs = -1)\n",
    "\n",
    "rfecv.fit(X_train, y_train)\n",
    "\n",
    "print(\"Optimal number of features : %d\" % rfecv.n_features_)\n",
    "\n",
    "# Plot number of features VS. cross-validation scores\n",
    "plt.figure()\n",
    "plt.xlabel(\"Number of features\")\n",
    "plt.ylabel(\"AUROC\")\n",
    "plt.title('Recursive Feature Elimination')\n",
    "plt.plot(range(1, len(rfecv.grid_scores_) + 1), rfecv.grid_scores_)\n",
    "plt.show()'''"
   ]
  },
  {
   "cell_type": "markdown",
   "metadata": {},
   "source": [
    "### Sequential selection"
   ]
  },
  {
   "cell_type": "code",
   "execution_count": null,
   "metadata": {},
   "outputs": [],
   "source": [
    "from mlxtend.feature_selection import SequentialFeatureSelector\n",
    "from mlxtend.plotting import plot_sequential_feature_selection as plot_sfs\n",
    "from sklearn.model_selection import StratifiedKFold\n",
    "\n",
    "start = 1\n",
    "end = 22\n",
    "\n",
    "k_fold = StratifiedKFold(n_splits=10, random_state=42, shuffle=True)"
   ]
  },
  {
   "cell_type": "markdown",
   "metadata": {},
   "source": [
    "### Sequential Forward Selection"
   ]
  },
  {
   "cell_type": "code",
   "execution_count": null,
   "metadata": {},
   "outputs": [],
   "source": [
    "sfs = SequentialFeatureSelector(clf,\n",
    "           k_features=(start, end - 1),\n",
    "           forward=True,\n",
    "           floating=False,\n",
    "           verbose=0,\n",
    "           scoring='roc_auc',\n",
    "           cv=k_fold,\n",
    "           n_jobs=-1)\n",
    "\n",
    "sfs.fit(X_train, y_train)\n",
    "\n",
    "index_total = []\n",
    "index_num_total = []\n",
    "auc_total = []\n",
    "\n",
    "for i in range(start, end):\n",
    "    index = [list(X)[i] for i in sfs.subsets_[i]['feature_idx']]\n",
    "    index_num = list(sfs.subsets_[i]['feature_idx'])\n",
    "    index_total.append(index)\n",
    "    index_num_total.append(index_num)\n",
    "    auc_total.append(sfs.subsets_[i]['avg_score'])\n",
    "\n",
    "pd.set_option('max_colwidth', 500)\n",
    "pd.DataFrame(zip(auc_total, index_total, index_num_total), index=range(start, end), columns=['auc', 'features', 'col_no'])"
   ]
  },
  {
   "cell_type": "code",
   "execution_count": null,
   "metadata": {},
   "outputs": [],
   "source": [
    "fig1 = plot_sfs(sfs.get_metric_dict(),\n",
    "                kind='std_dev',\n",
    "                figsize=(6, 4))\n",
    "\n",
    "plt.ylim([0.6, 1])\n",
    "plt.title('Sequential Forward Selection (95% CI)')\n",
    "plt.ylabel('AUROC')\n",
    "save_fig(\"Sequential Forward Selection\")\n",
    "plt.show()"
   ]
  },
  {
   "cell_type": "markdown",
   "metadata": {},
   "source": [
    "# Select Features"
   ]
  },
  {
   "cell_type": "code",
   "execution_count": null,
   "metadata": {},
   "outputs": [],
   "source": [
    "X_train_original = X_train\n",
    "X_test_original = X_test"
   ]
  },
  {
   "cell_type": "code",
   "execution_count": null,
   "metadata": {},
   "outputs": [],
   "source": [
    "index = [0,1,5]\n",
    "print([list(X_train_original)[i] for i in index])\n",
    "X_train = X_train_original.iloc[:, index]\n",
    "X_test = X_test_original.iloc[:, index]"
   ]
  },
  {
   "cell_type": "markdown",
   "metadata": {},
   "source": [
    "# ROC curve (internal)"
   ]
  },
  {
   "cell_type": "code",
   "execution_count": null,
   "metadata": {},
   "outputs": [],
   "source": [
    "from sklearn.metrics import roc_curve, auc\n",
    "from numpy import interp\n",
    "from sklearn.model_selection import StratifiedKFold\n",
    "\n",
    "skfolds = StratifiedKFold(n_splits=10, random_state=42, shuffle=True)\n",
    "\n",
    "thresholds = []\n",
    "tprs = []\n",
    "aucs = []\n",
    "base_fpr = np.linspace(0, 1, 101)\n",
    "\n",
    "for train, test in skfolds.split(X_train, y_train):\n",
    "    \n",
    "    model = clf.fit(X_train.iloc[train], y_train.iloc[train])\n",
    "    \n",
    "    y_score = model.predict_proba(X_train.iloc[test])\n",
    "    \n",
    "    fpr, tpr, threshold = roc_curve(y_train.iloc[test], y_score[:, 1])\n",
    "    print(f'len_y_true: {len(y_train.iloc[test])}, len_y_pred: {len(y_score[:, 1])}, len_fpr: {len(fpr)}, len_tpr: {len(tpr)}')\n",
    "    \n",
    "    roc_auc = auc(fpr, tpr)\n",
    "    \n",
    "    aucs.append(roc_auc)\n",
    "    \n",
    "    tpr = interp(base_fpr, fpr, tpr)\n",
    "    tpr[0] = 0.0\n",
    "    tprs.append(tpr)\n",
    "    \n",
    "    threshold = interp(base_fpr, fpr, threshold)\n",
    "    thresholds.append(threshold)\n",
    "\n",
    "tprs = np.array(tprs)\n",
    "mean_tprs = tprs.mean(axis=0)\n",
    "std = tprs.std(axis=0)\n",
    "\n",
    "thresholds = np.array(thresholds)\n",
    "mean_thresholds = thresholds.mean(axis=0)\n",
    "\n",
    "mean_auc = auc(base_fpr, mean_tprs)\n",
    "std_auc = np.std(aucs)\n",
    "\n",
    "tprs_upper = np.minimum(mean_tprs + std, 1)\n",
    "tprs_lower = mean_tprs - std\n",
    "\n",
    "plt.style.use('ggplot')\n",
    "plt.figure(figsize=(8, 8))\n",
    "plt.plot(base_fpr, mean_tprs, 'b', alpha = 0.8, label = r'Mean ROC (AUC = %0.2f $\\pm$ %0.2f)' % (mean_auc, std_auc),)\n",
    "plt.fill_between(base_fpr, tprs_lower, tprs_upper, color = 'blue', alpha = 0.2)\n",
    "plt.plot([0, 1], [0, 1], linestyle = '--', lw = 2, color = 'r', alpha= 0.8)\n",
    "plt.xlim([-0.01, 1.01])\n",
    "plt.ylim([-0.01, 1.01])\n",
    "plt.ylabel('True Positive Rate')\n",
    "plt.xlabel('False Positive Rate')\n",
    "plt.legend(loc=\"lower right\")\n",
    "# plt.title('Receiver operating characteristic (ROC) curve')\n",
    "save_fig('Figure 2B')\n",
    "plt.show()"
   ]
  },
  {
   "cell_type": "markdown",
   "metadata": {},
   "source": [
    "# Youden index, sensitivity, specificity"
   ]
  },
  {
   "cell_type": "code",
   "execution_count": null,
   "metadata": {},
   "outputs": [],
   "source": [
    "youden_index = mean_tprs-base_fpr\n",
    "max_index = np.argmax(youden_index)\n",
    "sensitivity = mean_tprs[max_index]\n",
    "specificity = 1 - base_fpr[max_index]\n",
    "print(\"max youden index\", youden_index[max_index],\"thresholds\", mean_thresholds[max_index], \"sensitivity\", sensitivity, \"specificity\", specificity)"
   ]
  },
  {
   "cell_type": "markdown",
   "metadata": {},
   "source": [
    "# Feature importance"
   ]
  },
  {
   "cell_type": "code",
   "execution_count": null,
   "metadata": {},
   "outputs": [],
   "source": [
    "clf.feature_importances_\n",
    "feature_importance_dict = {k: v for k, v in sorted(dict(zip(X_train, clf.feature_importances_)).items(), key=lambda item: item[1], reverse=True)}\n",
    "\n",
    "plt.style.use('ggplot')\n",
    "fig, ax = plt.subplots(figsize=(8,5))\n",
    "fig.align_ylabels()\n",
    "\n",
    "feature = feature_importance_dict.keys()\n",
    "y_pos = np.arange(len(feature))\n",
    "feature_importance = feature_importance_dict.values()\n",
    "\n",
    "ax.barh(y_pos, feature_importance, align='center')\n",
    "ax.set_yticks(y_pos)\n",
    "ax.set_yticklabels(feature)\n",
    "ax.invert_yaxis()  # labels read top-to-bottom\n",
    "ax.set_xlabel('Feature importance (%)')\n",
    "save_fig('Figure 2A')"
   ]
  },
  {
   "cell_type": "markdown",
   "metadata": {},
   "source": [
    "# Validation"
   ]
  },
  {
   "cell_type": "code",
   "execution_count": null,
   "metadata": {},
   "outputs": [],
   "source": [
    "y_test_score = clf.predict_proba(X_test)\n",
    "\n",
    "fpr, tpr, threshold = roc_curve(y_test, y_test_score[:, 1])\n",
    "\n",
    "roc_auc = auc(fpr, tpr)"
   ]
  },
  {
   "cell_type": "code",
   "execution_count": null,
   "metadata": {},
   "outputs": [],
   "source": [
    "plt.style.use('ggplot')\n",
    "plt.figure(figsize=(8, 8))\n",
    "plt.plot(fpr, tpr, 'b', alpha = 0.8, label = r'ROC (AUC = %0.2f)' % (roc_auc),)\n",
    "plt.plot([0, 1], [0, 1], linestyle = '--', lw = 2, color = 'r', alpha= 0.8)\n",
    "plt.xlim([-0.01, 1.01])\n",
    "plt.ylim([-0.01, 1.01])\n",
    "plt.ylabel('True Positive Rate')\n",
    "plt.xlabel('False Positive Rate')\n",
    "plt.legend(loc=\"lower right\")\n",
    "#plt.title('Receiver operating characteristic (ROC) curve')\n",
    "save_fig('Figure 2C')\n",
    "plt.show()"
   ]
  },
  {
   "cell_type": "code",
   "execution_count": null,
   "metadata": {},
   "outputs": [],
   "source": [
    "youden_index = tpr - fpr\n",
    "max_index = np.argmax(youden_index)\n",
    "sensitivity = tpr[max_index]\n",
    "specificity = 1 - fpr[max_index]\n",
    "print(f'max youden index: {youden_index[max_index]:.03f}, thresholds: {threshold[max_index]:.03f}, sensitivity: {sensitivity:.03f}, specificity: {specificity:.03f}')"
   ]
  },
  {
   "cell_type": "code",
   "execution_count": null,
   "metadata": {},
   "outputs": [],
   "source": []
  },
  {
   "cell_type": "code",
   "execution_count": null,
   "metadata": {},
   "outputs": [],
   "source": []
  },
  {
   "cell_type": "code",
   "execution_count": null,
   "metadata": {},
   "outputs": [],
   "source": []
  }
 ],
 "metadata": {
  "interpreter": {
   "hash": "e65356c28656be5370816a131b21f479a198065541c5e29d0e3beb7e08925597"
  },
  "kernelspec": {
   "display_name": "Python 3",
   "language": "python",
   "name": "python3"
  },
  "language_info": {
   "codemirror_mode": {
    "name": "ipython",
    "version": 3
   },
   "file_extension": ".py",
   "mimetype": "text/x-python",
   "name": "python",
   "nbconvert_exporter": "python",
   "pygments_lexer": "ipython3",
   "version": "3.8.8"
  }
 },
 "nbformat": 4,
 "nbformat_minor": 4
}
